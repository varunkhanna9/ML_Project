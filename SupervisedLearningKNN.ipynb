{
 "cells": [
  {
   "cell_type": "code",
   "execution_count": 9,
   "metadata": {
    "collapsed": true
   },
   "outputs": [],
   "source": [
    "import pandas as pd\n",
    "import numpy as np\n",
    "import matplotlib.pyplot as plt\n",
    "%matplotlib inline"
   ]
  },
  {
   "cell_type": "code",
   "execution_count": 22,
   "metadata": {
    "collapsed": true
   },
   "outputs": [],
   "source": [
    "def EUC_dist(X,Y):\n",
    "    difference=X-Y\n",
    "    difference_sq=difference*difference\n",
    "    row_summation=difference_sq.values.sum()\n",
    "    return np.sqrt(row_summation)\n",
    "\n",
    "def KNN(X_train, X_test, Y_train, k):\n",
    "    predic = []\n",
    "    for i in range(X_test.shape[0]):\n",
    "        row_test=X_test.iloc[i,:]\n",
    "        \n",
    "        dist=[]\n",
    "        for j in range(X_train.shape[0]):\n",
    "            row_train=X_train.iloc[j,:]\n",
    "            dist.append(EUC_dist(row_train, row_test))\n",
    "        Y_train = pd.DataFrame(Y_train)\n",
    "        Y_train['Distance'] = dist\n",
    "        Y_train.sort_values(by=['Distance'],inplace=True)\n",
    "        Y_train.drop('Distance',axis=1,inplace=True)\n",
    "        unique, counts = np.unique(Y_train[0:k], return_counts=True)\n",
    "        ind=np.argmax(counts)\n",
    "        predic.append(unique[ind])\n",
    "        \n",
    "    return predic"
   ]
  },
  {
   "cell_type": "code",
   "execution_count": 27,
   "metadata": {
    "collapsed": true
   },
   "outputs": [],
   "source": [
    "d = {'X1': [0,2,0,0,-1,1], 'X2': [3,0,1,1,0,1], 'X3':[0,0,3,2,1,1], 'Y': ['Yellow','Yellow','Yellow','Black','Black','Yellow']}\n",
    "train=pd.DataFrame(data=d)\n",
    "X_train=train.drop('Y',axis=1)\n",
    "Y_train=train['Y']\n",
    "\n",
    "d={'X1': [0], 'X2': [0], 'X3':[0]}\n",
    "test=pd.DataFrame(data=d)"
   ]
  },
  {
   "cell_type": "code",
   "execution_count": 35,
   "metadata": {},
   "outputs": [
    {
     "name": "stdout",
     "output_type": "stream",
     "text": [
      "Prediction for the Test data with K=1 is : \n",
      "['Yellow']\n"
     ]
    }
   ],
   "source": [
    "print(\"Prediction for the Test data with K=1 is : \") \n",
    "print(KNN(X_train, test,Y_train,8))"
   ]
  },
  {
   "cell_type": "code",
   "execution_count": 29,
   "metadata": {},
   "outputs": [
    {
     "name": "stdout",
     "output_type": "stream",
     "text": [
      "Prediction for the Test data with K=3 is : \n",
      "['Yellow']\n"
     ]
    }
   ],
   "source": [
    "print(\"Prediction for the Test data with K=3 is : \") \n",
    "print(KNN(X_train, test,Y_train,3))"
   ]
  },
  {
   "cell_type": "code",
   "execution_count": null,
   "metadata": {
    "collapsed": true
   },
   "outputs": [],
   "source": []
  }
 ],
 "metadata": {
  "kernelspec": {
   "display_name": "Python 3",
   "language": "python",
   "name": "python3"
  },
  "language_info": {
   "codemirror_mode": {
    "name": "ipython",
    "version": 3
   },
   "file_extension": ".py",
   "mimetype": "text/x-python",
   "name": "python",
   "nbconvert_exporter": "python",
   "pygments_lexer": "ipython3",
   "version": "3.5.4"
  }
 },
 "nbformat": 4,
 "nbformat_minor": 2
}
