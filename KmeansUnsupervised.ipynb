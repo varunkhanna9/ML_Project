{
 "cells": [
  {
   "cell_type": "code",
   "execution_count": 17,
   "metadata": {},
   "outputs": [],
   "source": [
    "import numpy as np\n",
    "import random\n",
    "import string\n",
    "import matplotlib.pyplot as plt\n",
    "% matplotlib inline"
   ]
  },
  {
   "cell_type": "code",
   "execution_count": 18,
   "metadata": {},
   "outputs": [],
   "source": [
    "class k_means(object):\n",
    "    \n",
    "    def __init__(self, k):\n",
    "        self.k = k\n",
    "    \n",
    "    @staticmethod\n",
    "    def _initialize_classes_(k, points):\n",
    "        \"\"\"\n",
    "        This function takes in the number of classes,k, you want\n",
    "        and it takes in the array of points, points, and returns a dictionary\n",
    "        d[point] = class, where the class is assigned randomly with the restriction\n",
    "        being at least one point for each class and k < number of points\n",
    "        \"\"\"\n",
    "        d={}\n",
    "        init_classes = []\n",
    "        num_pnts = len(points)\n",
    "        if k >= num_pnts:\n",
    "            return 'k must be less than ' + str(num_pnts)\n",
    "        while len(set(init_classes)) < k:\n",
    "            init_classes = []\n",
    "            for i in range(num_pnts):\n",
    "                init_classes.append(random.choice(string.ascii_letters[0:k]))\n",
    "        for c in init_classes:\n",
    "            indices = [i for i, x in enumerate(init_classes) if x == c]\n",
    "            for i in indices:\n",
    "                d[tuple(points[i])] = c\n",
    "        return d\n",
    "\n",
    "    @staticmethod\n",
    "    def _closest_cluster_(d):\n",
    "        \"\"\"\n",
    "        This function takes in the dictionary, d, of point,class pairs,\n",
    "        computes each cluster center, and re-assigns each point to the class\n",
    "        whose center it is closest to and returns the updated dictionary\n",
    "        \"\"\"\n",
    "        labels = set(d.values())\n",
    "        cluster_centers = {}\n",
    "        new_d = {}\n",
    "        for label in labels:\n",
    "            keys = [np.array(i) for i,x in d.items() if x==label]\n",
    "            center = np.mean(keys, axis=0)\n",
    "            cluster_centers[label] = center\n",
    "        for point in d.keys():\n",
    "            distances = []\n",
    "            for k,v in cluster_centers.items():\n",
    "                dist = np.dot(np.array(point)-v, np.array(point)-v)\n",
    "                distances.append((dist, k))\n",
    "            closest_cluster = min(distances)[1]\n",
    "            new_d[point] = closest_cluster\n",
    "        return new_d\n",
    "    \n",
    "    def fit(self, X):\n",
    "        \"\"\"\n",
    "        This function takes in the number of classes,k, you want\n",
    "        and it takes in the array of points, X, and runs closest_cluster\n",
    "        until no more changes take place\n",
    "        \"\"\"\n",
    "        d = self._initialize_classes_(self.k, X)\n",
    "        old_d = {}\n",
    "        while len({k: old_d[k] for k in old_d if k in d and old_d[k] == d[k]}) != len(X):\n",
    "            old_d = d\n",
    "            d = self._closest_cluster_(d)\n",
    "        self._d = d\n",
    "        #return d\n",
    "    \n",
    "    def predict(self, point):\n",
    "        return self._d[point]\n",
    "    \n",
    "    def plot():\n",
    "        pass"
   ]
  },
  {
   "cell_type": "code",
   "execution_count": 19,
   "metadata": {},
   "outputs": [],
   "source": [
    "model = k_means(3)"
   ]
  },
  {
   "cell_type": "code",
   "execution_count": 20,
   "metadata": {},
   "outputs": [],
   "source": [
    "points = np.array([[1,1], [10,10],[10,1],[10.5,2],[11,1],[1.5,1.5],[2,1.3],[10.5,10.8],[11,11],[11.5,11.5],[10.3,10.3]])"
   ]
  },
  {
   "cell_type": "code",
   "execution_count": 21,
   "metadata": {},
   "outputs": [],
   "source": [
    "model.fit(points)"
   ]
  },
  {
   "cell_type": "code",
   "execution_count": 22,
   "metadata": {},
   "outputs": [
    {
     "data": {
      "text/plain": [
       "'c'"
      ]
     },
     "execution_count": 22,
     "metadata": {},
     "output_type": "execute_result"
    }
   ],
   "source": [
    "model.predict((10.5, 2))\n"
   ]
  },
  {
   "cell_type": "code",
   "execution_count": 23,
   "metadata": {},
   "outputs": [
    {
     "name": "stdout",
     "output_type": "stream",
     "text": [
      "Point: (1.0, 1.0)  Cluster: a\n",
      "Point: (10.0, 10.0)  Cluster: b\n",
      "Point: (10.0, 1.0)  Cluster: c\n",
      "Point: (10.5, 2.0)  Cluster: c\n",
      "Point: (11.0, 1.0)  Cluster: c\n",
      "Point: (1.5, 1.5)  Cluster: a\n",
      "Point: (2.0, 1.3)  Cluster: a\n",
      "Point: (10.5, 10.8)  Cluster: b\n",
      "Point: (11.0, 11.0)  Cluster: b\n",
      "Point: (11.5, 11.5)  Cluster: b\n",
      "Point: (10.3, 10.3)  Cluster: b\n"
     ]
    }
   ],
   "source": [
    "d = {}\n",
    "for point in points:\n",
    "    print('Point: %r  Cluster: %s' %(tuple(point), model.predict(tuple(point))))\n",
    "    d[tuple(point)] = model.predict(tuple(point))"
   ]
  },
  {
   "cell_type": "code",
   "execution_count": 24,
   "metadata": {},
   "outputs": [
    {
     "data": {
      "text/plain": [
       "<matplotlib.collections.PathCollection at 0x116202978>"
      ]
     },
     "execution_count": 24,
     "metadata": {},
     "output_type": "execute_result"
    },
    {
     "data": {
      "image/png": "[encoded data removed]",
      "text/plain": [
       "<Figure size 432x288 with 1 Axes>"
      ]
     },
     "metadata": {},
     "output_type": "display_data"
    }
   ],
   "source": [
    "color_dict = {'a':'red','b':'blue','c':'green'}\n",
    "plt.scatter(*zip(*d.keys()), color=[color_dict[i] for i in d.values()])"
   ]
  },
  {
   "cell_type": "code",
   "execution_count": null,
   "metadata": {},
   "outputs": [],
   "source": []
  }
 ],
 "metadata": {
  "kernelspec": {
   "display_name": "Python 3",
   "language": "python",
   "name": "python3"
  },
  "language_info": {
   "codemirror_mode": {
    "name": "ipython",
    "version": 3
   },
   "file_extension": ".py",
   "mimetype": "text/x-python",
   "name": "python",
   "nbconvert_exporter": "python",
   "pygments_lexer": "ipython3",
   "version": "3.6.5"
  }
 },
 "nbformat": 4,
 "nbformat_minor": 2
}
